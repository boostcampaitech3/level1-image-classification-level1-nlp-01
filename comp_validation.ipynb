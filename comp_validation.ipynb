{
 "cells": [
  {
   "cell_type": "code",
   "execution_count": 1,
   "id": "33ea0fee",
   "metadata": {},
   "outputs": [],
   "source": [
    "import argparse\n",
    "import os\n",
    "import random\n",
    "from importlib import import_module\n",
    "import multiprocessing\n",
    "\n",
    "import pandas as pd\n",
    "import torch\n",
    "from torch.utils.data import DataLoader\n",
    "\n",
    "from dataset import TestDataset, MaskBaseDataset\n",
    "import utils\n",
    "import dataset\n",
    "\n",
    "from pprint import pprint\n",
    "from sklearn.metrics import f1_score\n",
    "import numpy as np"
   ]
  },
  {
   "cell_type": "code",
   "execution_count": 2,
   "id": "c8386a27",
   "metadata": {},
   "outputs": [],
   "source": [
    "def load_model(saved_model, num_classes, device):\n",
    "    model_cls = getattr(import_module(\"model\"), args.model)\n",
    "    model = model_cls(\n",
    "        num_classes=num_classes\n",
    "    )\n",
    "\n",
    "    # tarpath = os.path.join(saved_model, 'best.tar.gz')\n",
    "    # tar = tarfile.open(tarpath, 'r:gz')\n",
    "    # tar.extractall(path=saved_model)\n",
    "\n",
    "    # model_path = os.path.join(saved_model, 'Epoch40_accuracy.pth')\n",
    "    model.load_state_dict(torch.load(saved_model, map_location=device))\n",
    "\n",
    "    return model\n"
   ]
  },
  {
   "cell_type": "code",
   "execution_count": 3,
   "id": "ec581e90",
   "metadata": {},
   "outputs": [],
   "source": [
    "def seed_everything(seed):\n",
    "    torch.manual_seed(seed)\n",
    "    torch.cuda.manual_seed(seed)\n",
    "    torch.cuda.manual_seed_all(seed)  # if use multi-GPU\n",
    "    torch.backends.cudnn.deterministic = True\n",
    "    torch.backends.cudnn.benchmark = False\n",
    "    np.random.seed(seed)\n",
    "    random.seed(seed)"
   ]
  },
  {
   "cell_type": "code",
   "execution_count": 13,
   "id": "e3c03796",
   "metadata": {},
   "outputs": [],
   "source": [
    "def validation(data_dir, model_dir, output_dir, args):\n",
    "    \"\"\"\n",
    "        Calculate Accuracy and F1 Score on Validation Dataset\n",
    "    \"\"\"\n",
    "    seed_everything(args.seed)\n",
    "    use_cuda = torch.cuda.is_available()\n",
    "    device = torch.device(\"cuda\" if use_cuda else \"cpu\")\n",
    "    \n",
    "    dataset_module = getattr(import_module(\"dataset\"), args.dataset)\n",
    "    dataset = dataset_module(\n",
    "        data_dir=args.data_dir,\n",
    "    )\n",
    "    num_classes = dataset.num_classes #18\n",
    "    \n",
    "    # -- augmentation\n",
    "    transform_module = getattr(import_module(\"dataset\"), args.augmentation)  # default: BaseAugmentation\n",
    "    transform = transform_module(\n",
    "        resize=args.resize,\n",
    "        mean=dataset.mean,\n",
    "        std=dataset.std,\n",
    "    )\n",
    "    dataset.set_transform(transform)\n",
    "\n",
    "    # -- data_loader\n",
    "    train_set, val_set = dataset.split_dataset()\n",
    "    \n",
    "    train_loader = DataLoader(\n",
    "        train_set,\n",
    "        batch_size=args.batch_size,\n",
    "        num_workers=multiprocessing.cpu_count()//2,\n",
    "        shuffle=False,\n",
    "        pin_memory=use_cuda,\n",
    "        drop_last=True,\n",
    "    )\n",
    "    \n",
    "    val_loader = DataLoader(\n",
    "        val_set,\n",
    "        batch_size=args.batch_size,\n",
    "        num_workers=multiprocessing.cpu_count()//2,\n",
    "        shuffle=False,\n",
    "        pin_memory=use_cuda,\n",
    "        drop_last=True,\n",
    "    )\n",
    "        \n",
    "    model = load_model(model_dir, num_classes, device).to(device)\n",
    "    model.eval()\n",
    "\n",
    "    print(\"Calculating Validation results\")\n",
    "    f1_pred = []\n",
    "    f1_labels = []\n",
    "    train_acc_items = []\n",
    "    val_acc_items = []\n",
    "    \n",
    "    with torch.no_grad():\n",
    "        for train_batch in train_loader:\n",
    "            inputs, labels = train_batch\n",
    "            inputs = inputs.to(device)\n",
    "            labels = labels.to(device)\n",
    "\n",
    "            outs = model(inputs)\n",
    "            preds = torch.argmax(outs, dim=-1)\n",
    "\n",
    "            f1_pred += preds\n",
    "            f1_labels += labels\n",
    "\n",
    "            acc_item = (labels == preds).sum().item()\n",
    "            train_acc_items.append(acc_item)\n",
    "\n",
    "        f1_labels = torch.stack(f1_labels)\n",
    "        f1_labels = f1_labels.cpu().numpy()\n",
    "        f1_pred = torch.stack(f1_pred)\n",
    "        f1_pred = f1_pred.cpu().numpy()\n",
    "\n",
    "        f1_macro = f1_score(f1_labels, f1_pred, average='macro')\n",
    "\n",
    "        train_acc = np.sum(train_acc_items) / len(train_set)\n",
    "        print(\n",
    "            f\"[Train] acc : {train_acc:4.2%} ||\"\n",
    "            f\"[Train] f1_macro : {f1_macro:4.2%}\"\n",
    "        )\n",
    "        \n",
    "        f1_pred = []\n",
    "        f1_labels = []\n",
    "        for val_batch in val_loader:\n",
    "            inputs, labels = val_batch\n",
    "            inputs = inputs.to(device)\n",
    "            labels = labels.to(device)\n",
    "\n",
    "            outs = model(inputs)\n",
    "            preds = torch.argmax(outs, dim=-1)\n",
    "\n",
    "            f1_pred += preds\n",
    "            f1_labels += labels\n",
    "\n",
    "            acc_item = (labels == preds).sum().item()\n",
    "            val_acc_items.append(acc_item)\n",
    "\n",
    "        f1_labels = torch.stack(f1_labels)\n",
    "        f1_labels = f1_labels.cpu().numpy()\n",
    "        f1_pred = torch.stack(f1_pred)\n",
    "        f1_pred = f1_pred.cpu().numpy()\n",
    "\n",
    "        f1_macro = f1_score(f1_labels, f1_pred, average='macro')\n",
    "\n",
    "        val_acc = np.sum(val_acc_items) / len(val_set)\n",
    "        print(\n",
    "            f\"[Val] acc : {val_acc:4.2%} ||\"\n",
    "            f\"[Val] f1_macro : {f1_macro:4.2%}\"\n",
    "        )\n"
   ]
  },
  {
   "cell_type": "code",
   "execution_count": null,
   "id": "bfb51b2b",
   "metadata": {},
   "outputs": [],
   "source": [
    "if __name__ == '__main__':\n",
    "    parser = argparse.ArgumentParser()\n",
    "\n",
    "    # Data and model checkpoints directories\n",
    "    parser.add_argument('--seed', type=int, default=42, help='random seed (default: 42)')\n",
    "    parser.add_argument('--batch_size', type=int, default=1000, help='input batch size for validing (default: 1000)')\n",
    "    parser.add_argument(\"--resize\", nargs=\"+\", type=int, default=[128, 96], help='resize size for image when you trained (default: (96, 128))')\n",
    "    parser.add_argument('--model', type=str, default='BaseModel', help='model type (default: BaseModel)')\n",
    "    parser.add_argument('--dataset', type=str, default='MaskBaseDataset', help='model type (default: BaseModel)')\n",
    "    parser.add_argument('--augmentation', type=str, default='BaseAugmentation', help='data augmentation type (default: BaseAugmentation)')\n",
    "    parser.add_argument('--config', default='./configs/model_config.json', help='config.json file')\n",
    "\n",
    "    # Container environment\n",
    "    parser.add_argument('--data_dir', type=str, default=os.environ.get('SM_CHANNEL_EVAL', '/opt/ml/input/data/eval'))\n",
    "    parser.add_argument('--model_path', type=str, default=os.environ.get('SM_CHANNEL_MODEL', './model'))\n",
    "    parser.add_argument('--output_path', type=str, default=os.environ.get('SM_OUTPUT_DATA_DIR', './output'))\n",
    "\n",
    "    args = parser.parse_args()\n",
    "    \n",
    "    config = utils.read_json(args.config)\n",
    "    args = utils.update_argument(args, config[\"valid\"])\n",
    "    pprint(vars(args))\n",
    "    \n",
    "    data_dir = args.data_dir # /opt/ml/input/data/train/images\n",
    "    model_path = args.model_path # ./model/exp/Epoch40_accuracy.pth\n",
    "    output_path = args.output_path # ./model/exp\n",
    "    \n",
    "    os.makedirs(output_path, exist_ok=True)\n",
    "\n",
    "    validation(data_dir, model_path, output_path, args)"
   ]
  },
  {
   "cell_type": "code",
   "execution_count": 5,
   "id": "a1715a00",
   "metadata": {},
   "outputs": [],
   "source": [
    "parser = argparse.ArgumentParser()\n",
    "\n",
    "# Data and model checkpoints directories\n",
    "parser.add_argument('--seed', type=int, default=42, help='random seed (default: 42)')\n",
    "parser.add_argument('--batch_size', type=int, default=1000, help='input batch size for validing (default: 1000)')\n",
    "parser.add_argument(\"--resize\", nargs=\"+\", type=int, default=[128, 96], help='resize size for image when you trained (default: (96, 128))')\n",
    "parser.add_argument('--model', type=str, default='BaseModel', help='model type (default: BaseModel)')\n",
    "parser.add_argument('--dataset', type=str, default='MaskBaseDataset', help='model type (default: BaseModel)')\n",
    "parser.add_argument('--augmentation', type=str, default='BaseAugmentation', help='data augmentation type (default: BaseAugmentation)')\n",
    "parser.add_argument('--config', default='./configs/model_config.json', help='config.json file')\n",
    "\n",
    "# Container environment\n",
    "parser.add_argument('--data_dir', type=str, default=os.environ.get('SM_CHANNEL_EVAL', '/opt/ml/input/data/eval'))\n",
    "parser.add_argument('--model_path', type=str, default=os.environ.get('SM_CHANNEL_MODEL', './model'))\n",
    "parser.add_argument('--output_path', type=str, default=os.environ.get('SM_OUTPUT_DATA_DIR', './output'))\n",
    "\n",
    "args = parser.parse_args([])"
   ]
  },
  {
   "cell_type": "code",
   "execution_count": 6,
   "id": "f40d4aa2",
   "metadata": {},
   "outputs": [],
   "source": [
    "# pprint(vars(args))"
   ]
  },
  {
   "cell_type": "code",
   "execution_count": 7,
   "id": "a4ac48da",
   "metadata": {
    "scrolled": true
   },
   "outputs": [
    {
     "name": "stdout",
     "output_type": "stream",
     "text": [
      "{'augmentation': 'CustomAugmentation',\n",
      " 'batch_size': 500,\n",
      " 'data_dir': '/opt/ml/input/data/train/images',\n",
      " 'dataset': 'MaskSplitByProfileDataset',\n",
      " 'model': 'ConvNextIn22ft1k',\n",
      " 'model_path': './model/exp21/Epoch40_accuracy.pth',\n",
      " 'output_path': './model/exp21',\n",
      " 'resize': [224, 224],\n",
      " 'seed': 42}\n"
     ]
    }
   ],
   "source": [
    "config = utils.read_json(args.config)\n",
    "pprint(config['valid'])"
   ]
  },
  {
   "cell_type": "code",
   "execution_count": 8,
   "id": "51f9ccd5",
   "metadata": {},
   "outputs": [
    {
     "name": "stdout",
     "output_type": "stream",
     "text": [
      "{'augmentation': 'CustomAugmentation',\n",
      " 'batch_size': 500,\n",
      " 'config': './configs/model_config.json',\n",
      " 'data_dir': '/opt/ml/input/data/train/images',\n",
      " 'dataset': 'MaskSplitByProfileDataset',\n",
      " 'model': 'ConvNextIn22ft1k',\n",
      " 'model_path': './model/exp21/Epoch40_accuracy.pth',\n",
      " 'output_path': './model/exp21',\n",
      " 'resize': [224, 224],\n",
      " 'seed': 42}\n"
     ]
    }
   ],
   "source": [
    "args = utils.update_argument(args, config[\"valid\"])\n",
    "pprint(vars(args))"
   ]
  },
  {
   "cell_type": "code",
   "execution_count": 9,
   "id": "6c7accd1",
   "metadata": {},
   "outputs": [],
   "source": [
    "data_dir = args.data_dir # /opt/ml/input/data/train/images\n",
    "model_path = args.model_path # ./model/exp/Epoch40_accuracy.pth\n",
    "output_path = args.output_path # ./model/exp"
   ]
  },
  {
   "cell_type": "code",
   "execution_count": 10,
   "id": "6c4f668e",
   "metadata": {},
   "outputs": [
    {
     "name": "stdout",
     "output_type": "stream",
     "text": [
      "Calculating Validation results\n",
      "[Val] acc : 81.59% ||[Val] f1_macro : 83.97%\n"
     ]
    }
   ],
   "source": [
    "validation(data_dir, model_path, output_path, args)"
   ]
  },
  {
   "cell_type": "code",
   "execution_count": 11,
   "id": "f85252e6",
   "metadata": {},
   "outputs": [
    {
     "name": "stdout",
     "output_type": "stream",
     "text": [
      "Calculating Validation results\n",
      "[Val] acc : 81.59% ||[Val] f1_macro : 83.97%\n"
     ]
    }
   ],
   "source": [
    "validation(data_dir, model_path, output_path, args)"
   ]
  },
  {
   "cell_type": "code",
   "execution_count": 14,
   "id": "5593dfa8",
   "metadata": {},
   "outputs": [
    {
     "name": "stdout",
     "output_type": "stream",
     "text": [
      "Calculating Validation results\n",
      "[Train] acc : 88.71% ||[Train] f1_macro : 83.11%\n",
      "[Val] acc : 81.67% ||[Val] f1_macro : 84.65%\n"
     ]
    }
   ],
   "source": [
    "validation(data_dir, model_path, output_path, args)"
   ]
  },
  {
   "cell_type": "code",
   "execution_count": null,
   "id": "0047ffdf",
   "metadata": {},
   "outputs": [],
   "source": [
    "validation(data_dir, model_path, output_path, args)"
   ]
  },
  {
   "cell_type": "code",
   "execution_count": null,
   "id": "88a66682",
   "metadata": {},
   "outputs": [],
   "source": []
  }
 ],
 "metadata": {
  "kernelspec": {
   "display_name": "py38",
   "language": "python",
   "name": "py38"
  },
  "language_info": {
   "codemirror_mode": {
    "name": "ipython",
    "version": 3
   },
   "file_extension": ".py",
   "mimetype": "text/x-python",
   "name": "python",
   "nbconvert_exporter": "python",
   "pygments_lexer": "ipython3",
   "version": "3.8.5"
  }
 },
 "nbformat": 4,
 "nbformat_minor": 5
}
