{
 "cells": [
  {
   "cell_type": "code",
   "execution_count": 1,
   "id": "fe0abe3b",
   "metadata": {},
   "outputs": [],
   "source": [
    "import torch\n",
    "import random\n",
    "import numpy as np\n",
    "import os"
   ]
  },
  {
   "cell_type": "code",
   "execution_count": 2,
   "id": "959769d6",
   "metadata": {},
   "outputs": [],
   "source": [
    "# Set random seed\n",
    "SEED = 2021\n",
    "random.seed(SEED)\n",
    "np.random.seed(SEED)\n",
    "os.environ[\"PYTHONHASHSEED\"] = str(SEED)\n",
    "torch.manual_seed(SEED)\n",
    "torch.cuda.manual_seed(SEED)  # type: ignore\n",
    "torch.backends.cudnn.deterministic = True  # type: ignore\n",
    "torch.backends.cudnn.benchmark = True  # type: ignore"
   ]
  },
  {
   "cell_type": "markdown",
   "id": "6b191625",
   "metadata": {},
   "source": [
    "## PyTorch Dataset"
   ]
  },
  {
   "cell_type": "markdown",
   "id": "890dad23",
   "metadata": {},
   "source": [
    "```python\n",
    "from torch.utils.data.dataset import Dataset\n",
    "\n",
    "class MyCustomDataset(Dataset):\n",
    "    def __init__(self, ...):\n",
    "        # stuff\n",
    "        \n",
    "    def __getitem__(self, index):\n",
    "        # stuff\n",
    "        return (img, label)\n",
    "\n",
    "    def __len__(self):\n",
    "        return count # of how many examples(images?) you have\n",
    "```"
   ]
  },
  {
   "cell_type": "markdown",
   "id": "bac68768",
   "metadata": {},
   "source": [
    "This is the skeleton that you have to fill to have a custom dataset. \n",
    "A dataset must contain following functions to be used by data loader later on.\n",
    "\n",
    "* \\_\\_init\\_\\_() function is where the initial logic happens like reading a csv, assigning transforms, filtering data, etc.\n",
    "* \\_\\_getitem\\_\\_() function returns the data and labels. This function is called from dataloader like this:\n",
    "    img, label = MyCustomDataset.__getitem__(99)  # For 99th item  \n",
    "* \\_\\_getitem\\_\\_() returns a specific type for a single data point (like a tensor, numpy array etc.), \n",
    "    otherwise, in the data loader you will get an error\n",
    "* \\_\\_len\\_\\_() returns count of samples you have"
   ]
  },
  {
   "cell_type": "code",
   "execution_count": 3,
   "id": "2c15424b",
   "metadata": {},
   "outputs": [],
   "source": [
    "import torch\n",
    "from torch.utils.data.dataset import Dataset\n",
    "from sklearn.datasets import load_iris"
   ]
  },
  {
   "cell_type": "code",
   "execution_count": 4,
   "id": "ad87327b",
   "metadata": {},
   "outputs": [],
   "source": [
    "class IrisDataset(Dataset):\n",
    "    def __init__(self):\n",
    "        iris = load_iris()\n",
    "        self.X = iris['data']\n",
    "        self.y = iris['target']\n",
    "        \n",
    "        self.feature_names = iris['feature_names']\n",
    "        self.target_names = iris['target_names']\n",
    "\n",
    "    def __len__(self):\n",
    "        len_dataset = None\n",
    "        len_dataset = len(self.X)\n",
    "        return len_dataset\n",
    "\n",
    "    def __getitem__(self, idx):\n",
    "        X, y = None, None\n",
    "        X = torch.tensor(self.X[idx],dtype=torch.float)\n",
    "        y = torch.tensor(self.y[idx],dtype=torch.long)\n",
    "        return X, y\n",
    "    "
   ]
  },
  {
   "cell_type": "code",
   "execution_count": 5,
   "id": "3a120b07",
   "metadata": {},
   "outputs": [],
   "source": [
    "dataset_iris = IrisDataset()"
   ]
  },
  {
   "cell_type": "code",
   "execution_count": 6,
   "id": "6c632746",
   "metadata": {},
   "outputs": [
    {
     "data": {
      "text/plain": [
       "(tensor([5.1000, 3.5000, 1.4000, 0.2000]), tensor(0))"
      ]
     },
     "execution_count": 6,
     "metadata": {},
     "output_type": "execute_result"
    }
   ],
   "source": [
    "dataset_iris[0]"
   ]
  },
  {
   "cell_type": "markdown",
   "id": "1f8f6e0a",
   "metadata": {},
   "source": [
    "## Map-style datasets\n",
    "- A map-style dataset is one that implements the \\_\\_getitem\\_\\_() and \\_\\_len\\_\\_() protocols, and represents a map from (possibly non-integral) indices/keys to data samples.\n",
    "- For example, such a dataset, when accessed with dataset[idx], could read the idx-th image and its corresponding label from a folder on the disk.\n",
    "\n",
    "## Iterable-style datasets\n",
    "- An iterable-style dataset is an instance of a subclass of IterableDataset that implements the \\_\\_iter\\_\\_() protocol, and represents an iterable over data samples. This type of datasets is particularly suitable for cases where random reads are expensive or even improbable, and where the batch size depends on the fetched data.\n",
    "\n",
    "- For example, such a dataset, when called iter(dataset), could return a stream of data reading from a database, a remote server, or even logs generated in real time."
   ]
  },
  {
   "cell_type": "markdown",
   "id": "8dff734a",
   "metadata": {},
   "source": [
    "## PyTorch DataLoader"
   ]
  },
  {
   "cell_type": "markdown",
   "id": "e82ddbed",
   "metadata": {},
   "source": [
    "```python\n",
    "DataLoader(dataset, \n",
    "           batch_size=1, \n",
    "           shuffle=False, \n",
    "           sampler=None,\n",
    "           batch_sampler=None, \n",
    "           num_workers=0, \n",
    "           collate_fn=None,\n",
    "           pin_memory=False, \n",
    "           drop_last=False, \n",
    "           timeout=0,\n",
    "           worker_init_fn=None)\n",
    "```"
   ]
  },
  {
   "cell_type": "markdown",
   "id": "361cbfde",
   "metadata": {},
   "source": [
    "### dataset\n",
    "    -  dataset from which to load the data."
   ]
  },
  {
   "cell_type": "markdown",
   "id": "930d8f0d",
   "metadata": {},
   "source": [
    "### batch_size\n",
    "    - how many samples per batch to load (default: 1)."
   ]
  },
  {
   "cell_type": "markdown",
   "id": "c3b34d3d",
   "metadata": {},
   "source": [
    "### shuffle\n",
    "    - set to True to have the data reshuffled at every epoch (default: False)."
   ]
  },
  {
   "cell_type": "markdown",
   "id": "8c08b9fc",
   "metadata": {},
   "source": [
    "### sampler\n",
    "    - defines the strategy to draw samples from the dataset. Can be any Iterable with __len__ implemented. If specified, shuffle must not be specified.\n",
    "\n",
    "- Map-style datasets. torch.utils.data.Sampler classes are used to specify the sequence of indices/keys used in data loading. They represent iterable objects over the indices to datasets. E.g., in the common case with stochastic gradient decent (SGD), a Sampler could randomly permute a list of indices and yield each one at a time, or yield a small number of them for mini-batch SGD.\n",
    "\n",
    "- A sequential or shuffled sampler will be automatically constructed based on the shuffle argument to a DataLoader. Alternatively, users may use the sampler argument to specify a custom Sampler object that at each time yields the next index/key to fetch.\n",
    "\n",
    "- A custom Sampler that yields a list of batch indices at a time can be passed as the batch_sampler argument. Automatic batching can also be enabled via batch_size and drop_last arguments. See the next section for more details on this.\n",
    "\n",
    "- Neither sampler nor batch_sampler is compatible with iterable-style datasets, since such datasets have no notion of a key or an index.\n",
    "\n",
    "```python\n",
    "# SequentialSampler : Samples elements sequentially, always in the same order.\n",
    "\n",
    "# RandomSampler : Samples elements randomly. If without replacement, then sample from a shuffled dataset. If with replacement, then user can specify num_samples to draw.\n",
    "\n",
    "# SubsetRandomSampler : Samples elements randomly from a given list of indices, without replacement.\n",
    "\n",
    "# WeightedRandomSampler : Samples elements from [0,..,len(weights)-1] with given probabilities (weights)\n",
    "list(WeightedRandomSampler([0.1, 0.9, 0.4, 0.7, 3.0, 0.6], 5, replacement=True))\n",
    "\n",
    "# BatchSampler : Wraps another sampler to yield a mini-batch of indices.\n",
    "list(BatchSampler(SequentialSampler(range(10)), batch_size=3, drop_last=False))\n",
    "\n",
    "# DistributedSampler : Sampler that restricts data loading to a subset of the dataset.\n",
    "# It is especially useful in conjunction with torch.nn.parallel.DistributedDataParallel. In such a case, each process can pass a DistributedSampler instance as a DataLoader sampler, and load a subset of the original dataset that is exclusive to it.\n",
    "\n",
    "sampler = DistributedSampler(dataset) if is_distributed else None\n",
    "loader = DataLoader(dataset, shuffle=(sampler is None),\n",
    "                    sampler=sampler)\n",
    "for epoch in range(start_epoch, n_epochs):\n",
    "    if is_distributed:\n",
    "        sampler.set_epoch(epoch)\n",
    "    train(loader)\n",
    "```"
   ]
  },
  {
   "cell_type": "markdown",
   "id": "adc1c7b8",
   "metadata": {},
   "source": [
    "### batch_sampler (Sampler or Iterable, optional) \n",
    "    – like sampler, but returns a batch of indices at a time. Mutually exclusive with batch_size, shuffle, sampler, and drop_last."
   ]
  },
  {
   "cell_type": "markdown",
   "id": "2ac026ed",
   "metadata": {},
   "source": [
    "### num_workers (int, optional) \n",
    "    – how many subprocesses to use for data loading. 0 means that the data will be loaded in the main process. (default: 0)"
   ]
  },
  {
   "cell_type": "markdown",
   "id": "016b8cc2",
   "metadata": {},
   "source": [
    "### collate_fn (callable, optional) \n",
    "    – merges a list of samples to form a mini-batch of Tensor(s). Used when using batched loading from a map-style dataset."
   ]
  },
  {
   "cell_type": "code",
   "execution_count": 7,
   "id": "c169e7c8",
   "metadata": {},
   "outputs": [],
   "source": [
    "from torch.utils.data import DataLoader\n",
    "\n",
    "class RandomDataset(Dataset):\n",
    "    def __init__(self, tot_len=10, n_features=1):\n",
    "        self.X = torch.rand((tot_len, n_features))\n",
    "        self.y = torch.randint(0, 3, size=(tot_len, ))  \n",
    "\n",
    "    def __len__(self):\n",
    "        return len(self.X)\n",
    "\n",
    "    def __getitem__(self, idx):\n",
    "        x = torch.FloatTensor(self.X[idx])\n",
    "        y = self.y[idx]\n",
    "        return x, y"
   ]
  },
  {
   "cell_type": "code",
   "execution_count": 8,
   "id": "b1bbdd21",
   "metadata": {},
   "outputs": [],
   "source": [
    "dataset_random = RandomDataset(tot_len=10)"
   ]
  },
  {
   "cell_type": "code",
   "execution_count": 9,
   "id": "654ec016",
   "metadata": {},
   "outputs": [],
   "source": [
    "def collate_fn(batch):\n",
    "    print('Original:\\n', batch)\n",
    "    print('-'*100)\n",
    "    \n",
    "    data_list, label_list = [], []\n",
    "    \n",
    "    for _data, _label in batch:\n",
    "        data_list.append(_data)\n",
    "        label_list.append(_label)\n",
    "    \n",
    "    print('Collated:\\n', [torch.Tensor(data_list), torch.LongTensor(label_list)])\n",
    "    print('-'*100)\n",
    "    \n",
    "    return torch.Tensor(data_list), torch.LongTensor(label_list)"
   ]
  },
  {
   "cell_type": "code",
   "execution_count": 10,
   "id": "f130e022",
   "metadata": {},
   "outputs": [
    {
     "name": "stdout",
     "output_type": "stream",
     "text": [
      "Original:\n",
      " [(tensor([0.1304]), tensor(2)), (tensor([0.5134]), tensor(0)), (tensor([0.7426]), tensor(0)), (tensor([0.7159]), tensor(0))]\n",
      "----------------------------------------------------------------------------------------------------\n",
      "Collated:\n",
      " [tensor([0.1304, 0.5134, 0.7426, 0.7159]), tensor([2, 0, 0, 0])]\n",
      "----------------------------------------------------------------------------------------------------\n"
     ]
    },
    {
     "data": {
      "text/plain": [
       "(tensor([0.1304, 0.5134, 0.7426, 0.7159]), tensor([2, 0, 0, 0]))"
      ]
     },
     "execution_count": 10,
     "metadata": {},
     "output_type": "execute_result"
    }
   ],
   "source": [
    "next(iter(DataLoader(dataset_random, collate_fn=collate_fn, batch_size=4)))"
   ]
  },
  {
   "cell_type": "markdown",
   "id": "7aac80f5",
   "metadata": {},
   "source": [
    "### pin_memory (bool, optional) \n",
    "    – If True, the data loader will copy Tensors into CUDA pinned memory before returning them. If your data elements are a custom type, or your collate_fn returns a batch that is a custom type, see the example below."
   ]
  },
  {
   "cell_type": "markdown",
   "id": "a68dd977",
   "metadata": {},
   "source": [
    "### drop_last (bool, optional) \n",
    "    – set to True to drop the last incomplete batch, if the dataset size is not divisible by the batch size. If False and the size of dataset is not divisible by the batch size, then the last batch will be smaller. (default: False)"
   ]
  },
  {
   "cell_type": "markdown",
   "id": "c4a6cf6f",
   "metadata": {},
   "source": [
    "### timeout (numeric, optional) \n",
    "    – if positive, the timeout value for collecting a batch from workers. Should always be non-negative. (default: 0)"
   ]
  },
  {
   "cell_type": "markdown",
   "id": "e2f632fc",
   "metadata": {},
   "source": [
    "### worker_init_fn (callable, optional) \n",
    "– If not None, this will be called on each worker subprocess with the worker id (an int in [0, num_workers - 1]) as input, after seeding and before data loading. (default: None)"
   ]
  },
  {
   "cell_type": "markdown",
   "id": "cce2109c",
   "metadata": {},
   "source": [
    "## torchvision.transform"
   ]
  },
  {
   "cell_type": "code",
   "execution_count": 11,
   "id": "627d2d58",
   "metadata": {},
   "outputs": [],
   "source": [
    "from torchvision import transforms\n",
    "import torchvision"
   ]
  },
  {
   "cell_type": "markdown",
   "id": "cadc9a9c",
   "metadata": {},
   "source": [
    "### transforms.Resize\n",
    "    - Resize the input image to the given size. If the image is torch Tensor, it is expected to have […, H, W] shape, where … means an arbitrary number of leading dimensions"
   ]
  },
  {
   "cell_type": "markdown",
   "id": "dfd53636",
   "metadata": {},
   "source": [
    "### transforms.RandomCrop\n",
    "    - Crop the given image at a random location. If the image is torch Tensor, it is expected to have […, H, W] shape, where … means an arbitrary number of leading dimensions, but if non-constant padding is used, the input is expected to have at most 2 leading dimensions"
   ]
  },
  {
   "cell_type": "markdown",
   "id": "b804b96d",
   "metadata": {},
   "source": [
    "### transforms.RandomRotation\n",
    "    - Rotate the image by angle. If the image is torch Tensor, it is expected to have […, H, W] shape, where … means an arbitrary number of leading dimensions."
   ]
  },
  {
   "cell_type": "markdown",
   "id": "f4b8736c",
   "metadata": {},
   "source": [
    "### transforms.ToTensor\n",
    "    - Convert a PIL Image or numpy.ndarray to tensor. This transform does not support torchscript."
   ]
  },
  {
   "cell_type": "markdown",
   "id": "7d33c0c2",
   "metadata": {},
   "source": [
    "### transforms.ToPILImage\n",
    "    - Convert a tensor or an ndarray to PIL Image. This transform does not support torchscript. \n",
    "    - Converts a torch.*Tensor of shape C x H x W or a numpy ndarray of shape H x W x C to a PIL Image while preserving the value range."
   ]
  },
  {
   "cell_type": "markdown",
   "id": "6a973341",
   "metadata": {},
   "source": [
    "### transforms.Compose\n",
    "    - Composes several transforms together. This transform does not support torchscript. Please, see the note below.\n",
    "    \n",
    "```python\n",
    "transforms.Compose([\n",
    " transforms.CenterCrop(10),\n",
    " transforms.PILToTensor(),\n",
    " transforms.ConvertImageDtype(torch.float),\n",
    "])\n",
    "```"
   ]
  },
  {
   "cell_type": "code",
   "execution_count": 12,
   "id": "cf7d46d2",
   "metadata": {},
   "outputs": [],
   "source": [
    "transform = transforms.Compose([transforms.Resize((224,224)),\n",
    "                    transforms.RandomVerticalFlip(0.5),\n",
    "                    transforms.CenterCrop(150)])"
   ]
  },
  {
   "cell_type": "code",
   "execution_count": 13,
   "id": "1a9674c2",
   "metadata": {},
   "outputs": [],
   "source": [
    "dataset_train_MNIST = torchvision.datasets.MNIST('data/MNIST/', # 다운로드 경로 지정\n",
    "                                                 train=True, # True를 지정하면 훈련 데이터로 다운로드\n",
    "                                                 transform=transforms.ToTensor(), # 텐서로 변환\n",
    "                                                 download=True, \n",
    "                                                )"
   ]
  },
  {
   "cell_type": "code",
   "execution_count": 14,
   "id": "9c8e8de3",
   "metadata": {},
   "outputs": [],
   "source": [
    "transform2 = transforms.Compose([transforms.RandomHorizontalFlip(),\n",
    "                    transforms.ToTensor(),\n",
    "                    transforms.Normalize((0.5, 0.5, 0.5), (0.5, 0.5, 0.5))])"
   ]
  },
  {
   "cell_type": "code",
   "execution_count": 15,
   "id": "fa54af95",
   "metadata": {},
   "outputs": [
    {
     "name": "stdout",
     "output_type": "stream",
     "text": [
      "Files already downloaded and verified\n"
     ]
    }
   ],
   "source": [
    "dataset_train_CIFAR10 = torchvision.datasets.CIFAR10(root='data/CIFAR10/',  # 다운로드 경로 지정\n",
    "                                                     train=True,  # True를 지정하면 훈련 데이터로 다운로드\n",
    "                                                     transform= transform2\n",
    "                                                     ,  # 텐서로 변환\n",
    "                                                     download=True,\n",
    "                                                     )"
   ]
  },
  {
   "cell_type": "code",
   "execution_count": 16,
   "id": "fd35fd69",
   "metadata": {},
   "outputs": [
    {
     "data": {
      "text/plain": [
       "Dataset CIFAR10\n",
       "    Number of datapoints: 50000\n",
       "    Root location: data/CIFAR10/\n",
       "    Split: Train\n",
       "    StandardTransform\n",
       "Transform: Compose(\n",
       "               RandomHorizontalFlip(p=0.5)\n",
       "               ToTensor()\n",
       "               Normalize(mean=(0.5, 0.5, 0.5), std=(0.5, 0.5, 0.5))\n",
       "           )"
      ]
     },
     "execution_count": 16,
     "metadata": {},
     "output_type": "execute_result"
    }
   ],
   "source": [
    "dataset_train_CIFAR10\n"
   ]
  },
  {
   "cell_type": "code",
   "execution_count": 17,
   "id": "ef74c158",
   "metadata": {},
   "outputs": [],
   "source": [
    "dataloader_train_CIFAR10 = DataLoader(dataset=dataset_train_CIFAR10,\n",
    "                                      batch_size=16,\n",
    "                                      shuffle=True,\n",
    "                                      num_workers=4,\n",
    "                                      )"
   ]
  },
  {
   "cell_type": "code",
   "execution_count": 18,
   "id": "c5d29081",
   "metadata": {
    "scrolled": true
   },
   "outputs": [],
   "source": [
    "images, labels = next(iter(dataloader_train_CIFAR10))"
   ]
  },
  {
   "cell_type": "code",
   "execution_count": 19,
   "id": "f403f988",
   "metadata": {},
   "outputs": [],
   "source": [
    "%matplotlib inline\n",
    "import matplotlib.pyplot as plt"
   ]
  },
  {
   "cell_type": "code",
   "execution_count": 20,
   "id": "88fec7aa",
   "metadata": {},
   "outputs": [
    {
     "data": {
      "image/png": "[encoded data removed]",
      "text/plain": [
       "<Figure size 864x864 with 16 Axes>"
      ]
     },
     "metadata": {
      "needs_background": "light"
     },
     "output_type": "display_data"
    }
   ],
   "source": [
    "plt.figure(figsize=(12,12))\n",
    "for n, (image, label) in enumerate(zip(images, labels), start=1):\n",
    "    plt.subplot(4,4,n)\n",
    "    plt.imshow(transforms.ToPILImage()(image*0.5+0.5))\n",
    "    plt.title(\"{}\".format(dataset_train_CIFAR10.classes[label]))\n",
    "    plt.axis('off')\n",
    "plt.tight_layout()\n",
    "plt.show()    "
   ]
  },
  {
   "cell_type": "markdown",
   "id": "27abc4a2",
   "metadata": {},
   "source": [
    "# Overall View"
   ]
  },
  {
   "cell_type": "markdown",
   "id": "0b767ba0",
   "metadata": {},
   "source": [
    "```python\n",
    "import torch\n",
    "import torch.nn as nn\n",
    "import torch.optim as optim\n",
    "import torch.nn.functional as F\n",
    "from torch.utils.data import Dataset, DataLoader \n",
    "from network import CustomNet\n",
    "from dataset import ExampleDataset\n",
    "from loss import ExampleLoss\n",
    "\n",
    "# Define Model\n",
    "model = CustomNet()\n",
    "\n",
    "\n",
    "# Define optimizer\n",
    "params = [param for param in model.parameters() if param.requires_grad]\n",
    "optimizer = optim.Example(params, lr=lr)\n",
    "\n",
    "# Define loss\n",
    "loss_fn = ExampleLoss()\n",
    "\n",
    "##########################################################\n",
    "##########################################################\n",
    "# Define Dataset\n",
    "class ExampleDataset(Dataset):\n",
    "    def __init__(self, ...):\n",
    "        # stuff\n",
    "        \n",
    "    def __getitem__(self, index):\n",
    "        # stuff\n",
    "        return (img, label)\n",
    "\n",
    "    def __len__(self):\n",
    "        return count \n",
    "dataset_example = ExampleDataset()\n",
    "\n",
    "# Define Data loader\n",
    "dataloader_example = DataLoader(dataset_example)\n",
    "##########################################################\n",
    "##########################################################\n",
    "\n",
    "model.train()\n",
    "for e in range(epochs):\n",
    "    for X,y in dataloader_example:\n",
    "        output = model(X)\n",
    "        loss = loss_fn(output, y)\n",
    "        optimizer.zero_grad()\n",
    "        loss.backward()\n",
    "        optimizer.step()\n",
    "```"
   ]
  },
  {
   "cell_type": "code",
   "execution_count": null,
   "id": "c5e95283",
   "metadata": {},
   "outputs": [],
   "source": []
  }
 ],
 "metadata": {
  "kernelspec": {
   "display_name": "py38",
   "language": "python",
   "name": "py38"
  },
  "language_info": {
   "codemirror_mode": {
    "name": "ipython",
    "version": 3
   },
   "file_extension": ".py",
   "mimetype": "text/x-python",
   "name": "python",
   "nbconvert_exporter": "python",
   "pygments_lexer": "ipython3",
   "version": "3.8.5"
  }
 },
 "nbformat": 4,
 "nbformat_minor": 5
}
