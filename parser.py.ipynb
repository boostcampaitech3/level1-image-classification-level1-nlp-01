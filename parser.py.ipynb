{
 "cells": [
  {
   "cell_type": "code",
   "execution_count": 1,
   "id": "683987ee",
   "metadata": {},
   "outputs": [],
   "source": [
    "import argparse\n",
    "import json\n",
    "import os"
   ]
  },
  {
   "cell_type": "code",
   "execution_count": 2,
   "id": "1f540e33",
   "metadata": {},
   "outputs": [],
   "source": [
    "parser = argparse.ArgumentParser()"
   ]
  },
  {
   "cell_type": "code",
   "execution_count": 3,
   "id": "29d5abdf",
   "metadata": {},
   "outputs": [
    {
     "data": {
      "text/plain": [
       "_StoreAction(option_strings=['--name'], dest='name', nargs=None, const=None, default='exp', type=None, choices=None, help='model save at {SM_MODEL_DIR}/{name}', metavar=None)"
      ]
     },
     "execution_count": 3,
     "metadata": {},
     "output_type": "execute_result"
    }
   ],
   "source": [
    "parser.add_argument('--seed', type=int, default=42, help='random seed (default: 42)')\n",
    "parser.add_argument('--epochs', type=int, default=1, help='number of epochs to train (default: 1)')\n",
    "parser.add_argument('--dataset', type=str, default='MaskBaseDataset', help='dataset augmentation type (default: MaskBaseDataset)')\n",
    "parser.add_argument('--augmentation', type=str, default='BaseAugmentation', help='data augmentation type (default: BaseAugmentation)')\n",
    "parser.add_argument(\"--resize\", nargs=\"+\", type=int,default=[128, 96], help='resize size for image when training')\n",
    "parser.add_argument('--batch_size', type=int, default=64, help='input batch size for training (default: 64)')\n",
    "parser.add_argument('--valid_batch_size', type=int, default=1000, help='input batch size for validing (default: 1000)')\n",
    "parser.add_argument('--model', type=str, default='BaseModel', help='model type (default: BaseModel)')\n",
    "parser.add_argument('--optimizer', type=str, default='SGD', help='optimizer type (default: SGD)')\n",
    "parser.add_argument('--lr', type=float, default=1e-3, help='learning rate (default: 1e-3)')\n",
    "parser.add_argument('--val_ratio', type=float, default=0.2, help='ratio for validaton (default: 0.2)')\n",
    "parser.add_argument('--criterion', type=str, default='cross_entropy', help='criterion type (default: cross_entropy)')\n",
    "parser.add_argument('--lr_decay_step', type=int, default=20, help='learning rate scheduler deacy step (default: 20)')\n",
    "parser.add_argument('--log_interval', type=int, default=20, help='how many batches to wait before logging training status')\n",
    "parser.add_argument('--name', default='exp', help='model save at {SM_MODEL_DIR}/{name}')\n",
    "\n",
    "# Container environment\n",
    "# parser.add_argument('--data_dir', type=str, default=os.environ.get('SM_CHANNEL_TRAIN', '/opt/ml/input/data/train/images'))\n",
    "# parser.add_argument('--model_dir', type=str, default=os.environ.get('SM_MODEL_DIR', './model'))"
   ]
  },
  {
   "cell_type": "code",
   "execution_count": 4,
   "id": "6dbb0f1c",
   "metadata": {},
   "outputs": [],
   "source": [
    "args = parser.parse_args([])"
   ]
  },
  {
   "cell_type": "code",
   "execution_count": 10,
   "id": "2b5d1855",
   "metadata": {},
   "outputs": [],
   "source": [
    "def read_json(file):\n",
    "    with open(file) as json_file:\n",
    "        data = json.load(json_file)\n",
    "    return data\n",
    "\n",
    "config = read_json('./configs/model_config.json')"
   ]
  },
  {
   "cell_type": "code",
   "execution_count": 11,
   "id": "24d40be5",
   "metadata": {},
   "outputs": [
    {
     "data": {
      "text/plain": [
       "{'train': {'seed': 42,\n",
       "  'epochs': 50,\n",
       "  'dataset': 'MaskSplitByProfileDataset',\n",
       "  'augmentation': 'CustomAugmentation',\n",
       "  'resize': [224, 224],\n",
       "  'batch_size': 64,\n",
       "  'valid_batch_size': 128,\n",
       "  'model': 'ConvNextIn22ft1k',\n",
       "  'optimizer': 'Adam',\n",
       "  'lr': 0.0001,\n",
       "  'val_ratio': 0.2,\n",
       "  'criterion': 'cross_entropy',\n",
       "  'lr_decay_step': 20,\n",
       "  'log_interval': 20,\n",
       "  'data_dir': '/opt/ml/input/data/train/images',\n",
       "  'model_dir': './model'},\n",
       " 'valid': {'seed': 42,\n",
       "  'batch_size': 500,\n",
       "  'resize': [224, 224],\n",
       "  'model': 'ConvNextIn22ft1k',\n",
       "  'dataset': 'MaskSplitByProfileDataset',\n",
       "  'augmentation': 'CustomAugmentation',\n",
       "  'data_dir': '/opt/ml/input/data/train/images',\n",
       "  'model_path': './model/exp21/Epoch40_accuracy.pth',\n",
       "  'output_path': './model/exp21'}}"
      ]
     },
     "execution_count": 11,
     "metadata": {},
     "output_type": "execute_result"
    }
   ],
   "source": [
    "config\n"
   ]
  },
  {
   "cell_type": "code",
   "execution_count": 21,
   "id": "cf963c6b",
   "metadata": {},
   "outputs": [],
   "source": [
    "# for arg in vars(args):\n",
    "#      print(arg, getattr(args, arg))"
   ]
  },
  {
   "cell_type": "code",
   "execution_count": 22,
   "id": "ec9558ee",
   "metadata": {},
   "outputs": [],
   "source": [
    "import json"
   ]
  },
  {
   "cell_type": "code",
   "execution_count": 23,
   "id": "5b4f3b95",
   "metadata": {},
   "outputs": [],
   "source": [
    "def update_argument(args, configs):\n",
    "    for arg in configs:\n",
    "        if arg in args:\n",
    "            setattr(args, arg, configs[arg])\n",
    "        else:\n",
    "            raise ValueError(f\"no argument {arg}\")\n",
    "    return args"
   ]
  },
  {
   "cell_type": "code",
   "execution_count": 24,
   "id": "e89615f6",
   "metadata": {},
   "outputs": [],
   "source": [
    "args = update_argument(args, config)"
   ]
  },
  {
   "cell_type": "code",
   "execution_count": 25,
   "id": "63b105f8",
   "metadata": {},
   "outputs": [
    {
     "name": "stdout",
     "output_type": "stream",
     "text": [
      "{'augmentation': 'CustomAugmentation',\n",
      " 'batch_size': 64,\n",
      " 'criterion': 'f1',\n",
      " 'dataset': 'MaskSplitByProfileDataset',\n",
      " 'epochs': 5,\n",
      " 'log_interval': 20,\n",
      " 'lr': 0.001,\n",
      " 'lr_decay_step': 20,\n",
      " 'model': 'ConvNextIn22ft1k',\n",
      " 'name': 'exp',\n",
      " 'optimizer': 'AdamW',\n",
      " 'resize': [224, 224],\n",
      " 'seed': 2021,\n",
      " 'val_ratio': 0.2,\n",
      " 'valid_batch_size': 128}\n"
     ]
    }
   ],
   "source": [
    "from pprint import pprint\n",
    "pprint(vars(args))"
   ]
  },
  {
   "cell_type": "code",
   "execution_count": 26,
   "id": "16c2bf9e",
   "metadata": {},
   "outputs": [
    {
     "name": "stdout",
     "output_type": "stream",
     "text": [
      "{'augmentation': 'CustomAugmentation',\n",
      " 'batch_size': 64,\n",
      " 'criterion': 'f1',\n",
      " 'dataset': 'MaskSplitByProfileDataset',\n",
      " 'epochs': 5,\n",
      " 'log_interval': 20,\n",
      " 'lr': 0.001,\n",
      " 'lr_decay_step': 20,\n",
      " 'model': 'ConvNextIn22ft1k',\n",
      " 'name': 'exp',\n",
      " 'optimizer': 'AdamW',\n",
      " 'resize': [224, 224],\n",
      " 'seed': 2021,\n",
      " 'val_ratio': 0.2,\n",
      " 'valid_batch_size': 128}\n"
     ]
    }
   ],
   "source": [
    "pprint(vars(args))"
   ]
  },
  {
   "cell_type": "code",
   "execution_count": null,
   "id": "47aef626",
   "metadata": {},
   "outputs": [],
   "source": []
  }
 ],
 "metadata": {
  "kernelspec": {
   "display_name": "py38",
   "language": "python",
   "name": "py38"
  },
  "language_info": {
   "codemirror_mode": {
    "name": "ipython",
    "version": 3
   },
   "file_extension": ".py",
   "mimetype": "text/x-python",
   "name": "python",
   "nbconvert_exporter": "python",
   "pygments_lexer": "ipython3",
   "version": "3.8.5"
  }
 },
 "nbformat": 4,
 "nbformat_minor": 5
}
